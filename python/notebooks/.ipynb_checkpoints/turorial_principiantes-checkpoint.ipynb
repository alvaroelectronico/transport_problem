{
 "cells": [
  {
   "cell_type": "markdown",
   "metadata": {},
   "source": [
    "# Tutorial para principiantes"
   ]
  },
  {
   "cell_type": "code",
   "execution_count": 29,
   "metadata": {},
   "outputs": [],
   "source": [
    "#! pip install gurobipy\n",
    "#! pip install pulp"
   ]
  },
  {
   "cell_type": "code",
   "execution_count": 30,
   "metadata": {},
   "outputs": [],
   "source": [
    "from pulp import*"
   ]
  },
  {
   "cell_type": "markdown",
   "metadata": {},
   "source": [
    "## Datos de entrada"
   ]
  },
  {
   "cell_type": "code",
   "execution_count": 41,
   "metadata": {},
   "outputs": [
    {
     "name": "stdout",
     "output_type": "stream",
     "text": [
      "Coste entre Caceres y Madrid: 1\n",
      "Coste entre Caceres y Tarragona: 1\n",
      "Coste entre Caceres y Santander: 1\n",
      "Coste entre Caceres y Albacete: 1\n",
      "Coste entre Caceres y Sevilla: 1\n",
      "Coste entre Zamora y Madrid: 1\n",
      "Coste entre Zamora y Tarragona: 1\n",
      "Coste entre Zamora y Santander: 1\n",
      "Coste entre Zamora y Albacete: 1\n",
      "Coste entre Zamora y Sevilla: 1\n"
     ]
    }
   ],
   "source": [
    "Plantas = ['Caceres', 'Zamora']\n",
    "Clientes = ['Madrid', 'Tarragona', 'Santander', 'Albacete', 'Sevilla']\n",
    "\n",
    "Oferta = {'Caceres':47, 'Zamora':63}\n",
    "Demanda = {'Madrid':31, 'Tarragona':16, \n",
    "           'Santander':22, 'Albacete':12, 'Sevilla':28}\n",
    "CosteUnitario={(p,c):1 for p in Plantas for c in Clientes}\n",
    "\n",
    "for p in Plantas:\n",
    "    for c in Clientes:\n",
    "        print 'Coste entre ' +str(p) + ' y ' + str(c) + ': '+ str(CosteUnitario[p,c])\n"
   ]
  },
  {
   "cell_type": "markdown",
   "metadata": {},
   "source": [
    "## Modelo matemático"
   ]
  },
  {
   "cell_type": "code",
   "execution_count": 32,
   "metadata": {},
   "outputs": [],
   "source": [
    "modelMinCoste = LpProblem(\"MinCoste\", LpMinimize)"
   ]
  },
  {
   "cell_type": "code",
   "execution_count": 33,
   "metadata": {},
   "outputs": [],
   "source": [
    "Transporte=LpVariable.dicts('Transporte', [(p,c) for p in Plantas for c in Clientes], lowBound = 0)"
   ]
  },
  {
   "cell_type": "code",
   "execution_count": 34,
   "metadata": {},
   "outputs": [],
   "source": [
    "for p in Plantas:\n",
    "    modelMinCoste+=LpConstraint(sum(Transporte[p,c] for c in Clientes), sense=LpConstraintGE, rhs= Oferta[p], name='Oferta'+str(p))"
   ]
  },
  {
   "cell_type": "code",
   "execution_count": 35,
   "metadata": {},
   "outputs": [],
   "source": [
    "for c in Clientes:\n",
    "    modelMinCoste+=LpConstraint(sum(Transporte[p,c] for p in Plantas), sense=LpConstraintGE, rhs= Demanda[c], name='Demanda'+str(c))"
   ]
  },
  {
   "cell_type": "code",
   "execution_count": 36,
   "metadata": {},
   "outputs": [],
   "source": [
    "modelMinCoste+=sum(Transporte[p,c] for p in Plantas for c in Clientes)"
   ]
  },
  {
   "cell_type": "code",
   "execution_count": 37,
   "metadata": {},
   "outputs": [
    {
     "data": {
      "text/plain": [
       "1"
      ]
     },
     "execution_count": 37,
     "metadata": {},
     "output_type": "execute_result"
    }
   ],
   "source": [
    "modelMinCoste.solve()"
   ]
  },
  {
   "cell_type": "markdown",
   "metadata": {},
   "source": [
    "## Plan de transporte óptimo"
   ]
  },
  {
   "cell_type": "code",
   "execution_count": 38,
   "metadata": {},
   "outputs": [
    {
     "name": "stdout",
     "output_type": "stream",
     "text": [
      "Coste mínimo: 110.0\n",
      "19.0 camiones de Caceres a Madrid\n",
      "28.0 camiones de Caceres a Sevilla\n",
      "13.0 camiones de Zamora a Madrid\n",
      "16.0 camiones de Zamora a Tarragona\n",
      "22.0 camiones de Zamora a Santander\n",
      "12.0 camiones de Zamora a Albacete\n"
     ]
    }
   ],
   "source": [
    "print 'Coste mínimo: ' + str(value(modelMinCoste.objective))\n",
    "for p in Plantas:\n",
    "    for c in Clientes:\n",
    "        if Transporte[p,c].varValue>0:\n",
    "             print str(Transporte[p,c].varValue) + ' camiones de ' + str(p) + ' a ' +str(c)\n"
   ]
  },
  {
   "cell_type": "code",
   "execution_count": null,
   "metadata": {},
   "outputs": [],
   "source": []
  },
  {
   "cell_type": "code",
   "execution_count": null,
   "metadata": {},
   "outputs": [],
   "source": []
  }
 ],
 "metadata": {
  "kernelspec": {
   "display_name": "Python 2",
   "language": "python",
   "name": "python2"
  },
  "language_info": {
   "codemirror_mode": {
    "name": "ipython",
    "version": 2
   },
   "file_extension": ".py",
   "mimetype": "text/x-python",
   "name": "python",
   "nbconvert_exporter": "python",
   "pygments_lexer": "ipython2",
   "version": "2.7.16"
  }
 },
 "nbformat": 4,
 "nbformat_minor": 2
}
