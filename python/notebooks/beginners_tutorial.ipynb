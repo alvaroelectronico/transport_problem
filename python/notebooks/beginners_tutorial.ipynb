{
  "nbformat": 4,
  "nbformat_minor": 0,
  "metadata": {
    "colab": {
      "name": "tutorial_principiantes_pulp.ipynb",
      "provenance": [],
      "collapsed_sections": [
        "WPTG7WrTgi8B",
        "wjLouwDHZNOU",
        "MJb1YX0pZNRA",
        "0h0VOFyCgzO0",
        "FwgFXFql3EFK"
      ]
    },
    "kernelspec": {
      "name": "python3",
      "display_name": "Python 3"
    }
  },
  "cells": [
    {
      "cell_type": "markdown",
      "metadata": {
        "id": "S7UpkcYyZNLj",
        "colab_type": "text"
      },
      "source": [
        "# Tutorial para principiantes"
      ]
    },
    {
      "cell_type": "code",
      "metadata": {
        "id": "EnyehUb2Y_FL",
        "colab_type": "code",
        "colab": {}
      },
      "source": [
        ""
      ],
      "execution_count": 0,
      "outputs": []
    },
    {
      "cell_type": "markdown",
      "metadata": {
        "id": "Mnc7hpw7c9b8",
        "colab_type": "text"
      },
      "source": [
        "## Presentación del problema\n",
        "\n",
        "(Aquí vendrá en enunciado)\n"
      ]
    },
    {
      "cell_type": "markdown",
      "metadata": {
        "id": "YNBJAtXfakG-",
        "colab_type": "text"
      },
      "source": [
        "## Formulación\n",
        "\n",
        "### Conjuntos\n",
        "\n",
        "$P$: plantas \\\\\n",
        "$C$: clientes\n",
        "\n",
        "### Parámetros\n",
        "$O_p$: oferta de la planta $p \\in P$ \\\\\n",
        "$D_p$: demanda del cliente $c \\in C$ \\\\\n",
        "$C_{pc}$: coste por enviar un camión de la planta $p \\in P$ al cliente $c \\in C$\n",
        "\n",
        "### Variables\n",
        "$z$: coste total \\\\\n",
        "$x_{pc}$: número de camiones enviados de la planta $p \\in P$ al cliente $c \\in C$\n",
        "\n",
        "### Restricciones\n",
        "\n",
        "$\\sum_{p \\in P} x_{pc} \\leq O_p$, $\\forall p \\in P$ (Capacidad)\n",
        "\n",
        "\n",
        "$\\sum_{c \\in C} x_{pc} \\geq D_c$, $\\forall c \\in C$ (Demanda)\n",
        "\n",
        "\n",
        "$z =\\sum_{p \\in P} \\sum_{c \\in C}C_{pc}x_{pc}$ (Coste total)\n",
        "\n",
        "$x_{pc} \\geq 0 \\, \\forall p, c$ (no negatividad)\n",
        "\n",
        "### Función objetivo\n",
        "min. $z$"
      ]
    },
    {
      "cell_type": "code",
      "metadata": {
        "id": "CyvI8hRjYWi4",
        "colab_type": "code",
        "colab": {}
      },
      "source": [
        ""
      ],
      "execution_count": 0,
      "outputs": []
    },
    {
      "cell_type": "markdown",
      "metadata": {
        "id": "hD5bJr74ZNNc",
        "colab_type": "text"
      },
      "source": [
        "## Datos de entrada\n",
        "### Importando archivo de Excel"
      ]
    },
    {
      "cell_type": "code",
      "metadata": {
        "id": "HX_Mu52dcTsz",
        "colab_type": "code",
        "outputId": "f60a8d82-675c-48f4-9f2d-83a39c78a436",
        "colab": {
          "resources": {
            "http://localhost:8080/nbextensions/google.colab/files.js": {
              "data": "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",
              "ok": true,
              "headers": [
                [
                  "content-type",
                  "application/javascript"
                ]
              ],
              "status": 200,
              "status_text": "OK"
            }
          },
          "base_uri": "https://localhost:8080/",
          "height": 59
        }
      },
      "source": [
        "#!pip install -q xlrd\n",
        "import xlrd\n",
        "from google.colab import files\n",
        "\n",
        "uploaded = files.upload()\n",
        "\n",
        "ruta ='datos_entrada.xlsx'\n",
        "wb = xlrd.open_workbook(ruta)\n",
        "\n",
        "sheet = wb.sheet_by_name(\"oferta\")\n",
        "Oferta = {sheet.cell_value(r,0): sheet.cell_value(r,1)\n",
        "          for r in range(0, sheet.nrows)}\n",
        "Plantas = list(Oferta.keys())\n",
        "\n",
        "sheet = wb.sheet_by_name(\"demanda\")\n",
        "Demanda = {sheet.cell_value(r,0): sheet.cell_value(r,1)\n",
        "          for r in range(0, sheet.nrows)}\n",
        "Clientes = list(Demanda.keys())\n",
        "\n",
        "sheet = wb.sheet_by_name(\"coste_transporte\")\n",
        "CosteUnitario = {(sheet.cell_value(r,0), sheet.cell_value(r,1)): sheet.cell_value(r,2)\n",
        "          for r in range(0, sheet.nrows)}\n",
        "\n",
        "print (Plantas)"
      ],
      "execution_count": 21,
      "outputs": [
        {
          "output_type": "display_data",
          "data": {
            "text/html": [
              "\n",
              "     <input type=\"file\" id=\"files-dfe84ef0-2753-45f2-9082-0206399b0bc2\" name=\"files[]\" multiple disabled />\n",
              "     <output id=\"result-dfe84ef0-2753-45f2-9082-0206399b0bc2\">\n",
              "      Upload widget is only available when the cell has been executed in the\n",
              "      current browser session. Please rerun this cell to enable.\n",
              "      </output>\n",
              "      <script src=\"/nbextensions/google.colab/files.js\"></script> "
            ],
            "text/plain": [
              "<IPython.core.display.HTML object>"
            ]
          },
          "metadata": {
            "tags": []
          }
        },
        {
          "output_type": "stream",
          "text": [
            "['Caceres', 'Zamora']\n"
          ],
          "name": "stdout"
        }
      ]
    },
    {
      "cell_type": "code",
      "metadata": {
        "id": "hIa73pzqFAbZ",
        "colab_type": "code",
        "colab": {
          "base_uri": "https://localhost:8080/",
          "height": 129
        },
        "outputId": "1575d208-5952-412f-f1d0-bccc9bfd5955"
      },
      "source": [
        "print(Plantas)\n",
        "print (Clientes)\n",
        "print (Oferta)\n",
        "print (Demanda)\n",
        "print (CosteUnitario)"
      ],
      "execution_count": 59,
      "outputs": [
        {
          "output_type": "stream",
          "text": [
            "['Caceres', 'Zamora']\n",
            "['Madrid', 'Tarragona', 'Santander', 'Albacete', 'Sevilla']\n",
            "{'Caceres': 47.0, 'Zamora': 63.0}\n",
            "{'Madrid': 31.0, 'Tarragona': 16.0, 'Santander': 22.0, 'Albacete': 12.0, 'Sevilla': 28.0}\n",
            "{('Caceres', 'Madrid'): 297.0, ('Caceres', 'Tarragona'): 831.0, ('Caceres', 'Santander'): 573.0, ('Caceres', 'Albacete'): 504.0, ('Caceres', 'Sevilla'): 264.0, ('Zamora', 'Madrid'): 248.0, ('Zamora', 'Tarragona'): 694.0, ('Zamora', 'Santander'): 344.0, ('Zamora', 'Albacete'): 499.0, ('Zamora', 'Sevilla'): 536.0}\n"
          ],
          "name": "stdout"
        }
      ]
    },
    {
      "cell_type": "markdown",
      "metadata": {
        "id": "WPTG7WrTgi8B",
        "colab_type": "text"
      },
      "source": [
        "### Introduciendo los datos manualmente"
      ]
    },
    {
      "cell_type": "code",
      "metadata": {
        "id": "syi2Ci6SZNNq",
        "colab_type": "code",
        "colab": {}
      },
      "source": [
        "Plantas = ['Caceres', 'Zamora']\n",
        "Clientes = ['Madrid', 'Tarragona', 'Santander', 'Albacete', 'Sevilla']\n",
        "\n",
        "Oferta = {'Caceres':47, 'Zamora':63}\n",
        "Demanda = {'Madrid':31, 'Tarragona':16, \n",
        "           'Santander':22, 'Albacete':12, 'Sevilla':28}\n",
        "\n"
      ],
      "execution_count": 0,
      "outputs": []
    },
    {
      "cell_type": "markdown",
      "metadata": {
        "id": "wjLouwDHZNOU",
        "colab_type": "text"
      },
      "source": [
        "## Modelo matemático en PuLP"
      ]
    },
    {
      "cell_type": "code",
      "metadata": {
        "id": "CPNOtCDEXS9e",
        "colab_type": "code",
        "outputId": "7db9f36b-443b-4b34-890c-a18869d417c1",
        "colab": {
          "base_uri": "https://localhost:8080/",
          "height": 147
        }
      },
      "source": [
        "pip install pulp"
      ],
      "execution_count": 0,
      "outputs": [
        {
          "output_type": "stream",
          "text": [
            "Collecting pulp\n",
            "\u001b[?25l  Downloading https://files.pythonhosted.org/packages/41/34/757c88c320f80ce602199603afe63aed1e0bc11180b9a9fb6018fb2ce7ef/PuLP-2.1-py3-none-any.whl (40.6MB)\n",
            "\u001b[K     |████████████████████████████████| 40.6MB 111kB/s \n",
            "\u001b[?25hRequirement already satisfied: pyparsing>=2.0.1 in /usr/local/lib/python3.6/dist-packages (from pulp) (2.4.7)\n",
            "Installing collected packages: pulp\n",
            "Successfully installed pulp-2.1\n"
          ],
          "name": "stdout"
        }
      ]
    },
    {
      "cell_type": "code",
      "metadata": {
        "id": "ZUePJ_xdZNNC",
        "colab_type": "code",
        "colab": {}
      },
      "source": [
        "from pulp import*"
      ],
      "execution_count": 0,
      "outputs": []
    },
    {
      "cell_type": "code",
      "metadata": {
        "id": "V40v5EpkZNOa",
        "colab_type": "code",
        "colab": {}
      },
      "source": [
        "modelMinCoste = LpProblem(\"MinCoste\", LpMinimize)"
      ],
      "execution_count": 0,
      "outputs": []
    },
    {
      "cell_type": "code",
      "metadata": {
        "id": "z4BFcYjNZNOu",
        "colab_type": "code",
        "colab": {}
      },
      "source": [
        "Transporte=LpVariable.dicts('Transporte', [(p,c) for p in Plantas for c in Clientes], lowBound = 0)"
      ],
      "execution_count": 0,
      "outputs": []
    },
    {
      "cell_type": "code",
      "metadata": {
        "id": "fHbG5ggdZNPD",
        "colab_type": "code",
        "colab": {}
      },
      "source": [
        "for p in Plantas:\n",
        "    modelMinCoste+=LpConstraint(sum(Transporte[p,c] for c in Clientes), sense=LpConstraintGE, rhs= Oferta[p], name='Oferta'+str(p))"
      ],
      "execution_count": 0,
      "outputs": []
    },
    {
      "cell_type": "code",
      "metadata": {
        "id": "lngGzeGTZNPZ",
        "colab_type": "code",
        "colab": {}
      },
      "source": [
        "for c in Clientes:\n",
        "    modelMinCoste+=LpConstraint(sum(Transporte[p,c] for p in Plantas), sense=LpConstraintGE, rhs= Demanda[c], name='Demanda'+str(c))"
      ],
      "execution_count": 0,
      "outputs": []
    },
    {
      "cell_type": "code",
      "metadata": {
        "id": "F4wgLIwbZNPw",
        "colab_type": "code",
        "colab": {}
      },
      "source": [
        "modelMinCoste+=sum(Transporte[p,c] for p in Plantas for c in Clientes)"
      ],
      "execution_count": 0,
      "outputs": []
    },
    {
      "cell_type": "code",
      "metadata": {
        "id": "XztEbtm2ZNQF",
        "colab_type": "code",
        "outputId": "b103399d-e773-4e70-f913-a36dec656968",
        "colab": {
          "base_uri": "https://localhost:8080/",
          "height": 35
        }
      },
      "source": [
        "modelMinCoste.solve()"
      ],
      "execution_count": 0,
      "outputs": [
        {
          "output_type": "execute_result",
          "data": {
            "text/plain": [
              "1"
            ]
          },
          "metadata": {
            "tags": []
          },
          "execution_count": 12
        }
      ]
    },
    {
      "cell_type": "markdown",
      "metadata": {
        "id": "MJb1YX0pZNRA",
        "colab_type": "text"
      },
      "source": [
        "## Plan de transporte óptimo"
      ]
    },
    {
      "cell_type": "code",
      "metadata": {
        "id": "YpR2GXQeZNRK",
        "colab_type": "code",
        "outputId": "54cf43a6-894f-4260-db72-bf87bd8f2f0d",
        "colab": {
          "base_uri": "https://localhost:8080/",
          "height": 146
        }
      },
      "source": [
        "  print ('Coste mínimo: ' + str(value(modelMinCoste.objective)))\n",
        "  for p in Plantas:\n",
        "      for c in Clientes:\n",
        "          if Transporte[p,c].varValue>0:\n",
        "               print (str(Transporte[p,c].varValue) + ' camiones de ' + str(p) + ' a ' +str(c))\n"
      ],
      "execution_count": 0,
      "outputs": [
        {
          "output_type": "stream",
          "text": [
            "Coste mínimo: 110.0\n",
            "19.0 camiones de Caceres a Madrid\n",
            "28.0 camiones de Caceres a Sevilla\n",
            "13.0 camiones de Zamora a Madrid\n",
            "16.0 camiones de Zamora a Tarragona\n",
            "22.0 camiones de Zamora a Santander\n",
            "12.0 camiones de Zamora a Albacete\n"
          ],
          "name": "stdout"
        }
      ]
    },
    {
      "cell_type": "markdown",
      "metadata": {
        "id": "IPuNFRC8mgE6",
        "colab_type": "text"
      },
      "source": [
        ""
      ]
    },
    {
      "cell_type": "markdown",
      "metadata": {
        "id": "U0TLZj7Vg5nu",
        "colab_type": "text"
      },
      "source": [
        "## Modelo matemático en Pyomo"
      ]
    },
    {
      "cell_type": "markdown",
      "metadata": {
        "id": "0h0VOFyCgzO0",
        "colab_type": "text"
      },
      "source": [
        "### Instalación de Pyomo"
      ]
    },
    {
      "cell_type": "code",
      "metadata": {
        "id": "UshtbDxKZNR9",
        "colab_type": "code",
        "colab": {}
      },
      "source": [
        "import shutil\n",
        "import sys\n",
        "import os.path\n",
        "\n",
        "if not shutil.which(\"pyomo\"):\n",
        "    !pip install -q pyomo\n",
        "    assert(shutil.which(\"pyomo\"))\n",
        "\n",
        "if not (shutil.which(\"cbc\") or os.path.isfile(\"cbc\")):\n",
        "    if \"google.colab\" in sys.modules:\n",
        "        !apt-get install -y -qq coinor-cbc\n",
        "    else:\n",
        "        try:\n",
        "            !conda install -c conda-forge coincbc \n",
        "        except:\n",
        "            pass\n",
        "from pyomo.environ import*"
      ],
      "execution_count": 0,
      "outputs": []
    },
    {
      "cell_type": "markdown",
      "metadata": {
        "id": "FwgFXFql3EFK",
        "colab_type": "text"
      },
      "source": [
        "### Pyomo concrete model"
      ]
    },
    {
      "cell_type": "code",
      "metadata": {
        "id": "KYuZ-M7jhmw6",
        "colab_type": "code",
        "colab": {}
      },
      "source": [
        "m = ConcreteModel()"
      ],
      "execution_count": 0,
      "outputs": []
    },
    {
      "cell_type": "code",
      "metadata": {
        "id": "YAhqI8yfh1AI",
        "colab_type": "code",
        "colab": {}
      },
      "source": [
        "m.Transporte = Var(Plantas, Clientes, within=NonNegativeReals)"
      ],
      "execution_count": 0,
      "outputs": []
    },
    {
      "cell_type": "code",
      "metadata": {
        "id": "64owyshbizLN",
        "colab_type": "code",
        "outputId": "577862f5-26de-44e5-e3b7-492647289380",
        "colab": {
          "base_uri": "https://localhost:8080/",
          "height": 155
        }
      },
      "source": [
        "for p in Plantas:\n",
        "  m.str(\"ResOferta%p\", %p) = Constraint(expr = sum(m.Transporte[p, c] for c in Clientes)<= Oferta[p])"
      ],
      "execution_count": 0,
      "outputs": [
        {
          "output_type": "error",
          "ename": "SyntaxError",
          "evalue": "ignored",
          "traceback": [
            "\u001b[0;36m  File \u001b[0;32m\"<ipython-input-19-1b2050a137d2>\"\u001b[0;36m, line \u001b[0;32m2\u001b[0m\n\u001b[0;31m    m.str(\"ResOferta%p\", %p) = Constraint(expr = sum(m.Transporte[p, c] for c in Clientes)<= Oferta[p])\u001b[0m\n\u001b[0m                         ^\u001b[0m\n\u001b[0;31mSyntaxError\u001b[0m\u001b[0;31m:\u001b[0m invalid syntax\n"
          ]
        }
      ]
    },
    {
      "cell_type": "code",
      "metadata": {
        "id": "VGYENIMZkQ_s",
        "colab_type": "code",
        "colab": {}
      },
      "source": [
        "for c in Clientes:\n",
        "  m.ResDemanda = Constraint(expr = sum(m.Transporte[p, c] for p in Plantas)>= Demanda[c])"
      ],
      "execution_count": 0,
      "outputs": []
    },
    {
      "cell_type": "code",
      "metadata": {
        "id": "o8r2uWyWkdXY",
        "colab_type": "code",
        "colab": {}
      },
      "source": [
        "m.value = Objective (expr = sum(m.Transporte[p,c]*CosteUnitario[p,c] for p in Plantas for c in Clientes))"
      ],
      "execution_count": 0,
      "outputs": []
    },
    {
      "cell_type": "code",
      "metadata": {
        "id": "08HcCM1lkqIQ",
        "colab_type": "code",
        "colab": {}
      },
      "source": [
        "# Optimize\n",
        "solver = SolverFactory('cbc')\n",
        "status = solver.solve(m)"
      ],
      "execution_count": 0,
      "outputs": []
    },
    {
      "cell_type": "code",
      "metadata": {
        "id": "xrWJXPDQkxOJ",
        "colab_type": "code",
        "colab": {}
      },
      "source": [
        "\n",
        "# Print the status of the solved LP\n",
        "print(\"Status = %s\" % status.solver.termination_condition)\n",
        "\n",
        "# Print solution\n",
        "print (\"Coste total: %f\" %value(m.value))\n",
        "for (p,c) in [(p,c) for p in Plantas for c in Clientes if value(m.Transporte[p,c])>0]:\n",
        "  print (\"Transporte de %f camiones de %s a %s\" %(value(m.Transporte[p,c]),p,c))"
      ],
      "execution_count": 0,
      "outputs": []
    },
    {
      "cell_type": "code",
      "metadata": {
        "id": "tz0bxpfRiU81",
        "colab_type": "code",
        "colab": {}
      },
      "source": [
        "del(m)"
      ],
      "execution_count": 0,
      "outputs": []
    },
    {
      "cell_type": "markdown",
      "metadata": {
        "id": "6Okux05_3ZJv",
        "colab_type": "text"
      },
      "source": [
        "### Pyomo abstract model"
      ]
    },
    {
      "cell_type": "code",
      "metadata": {
        "id": "QGoV3Wl83aLm",
        "colab_type": "code",
        "colab": {}
      },
      "source": [
        "# Creating the model\n",
        "mPyAbs = AbstractModel()"
      ],
      "execution_count": 0,
      "outputs": []
    },
    {
      "cell_type": "code",
      "metadata": {
        "id": "4Su-sowW9Ib5",
        "colab_type": "code",
        "colab": {}
      },
      "source": [
        "# Defining sets\n",
        "mPyAbs.sPlants = Set()\n",
        "mPyAbs.sCustomers = Set()"
      ],
      "execution_count": 0,
      "outputs": []
    },
    {
      "cell_type": "code",
      "metadata": {
        "id": "gTwv8MiB9R8D",
        "colab_type": "code",
        "colab": {}
      },
      "source": [
        "# Defining parameters\n",
        "mPyAbs.pDemand = Param(mPyAbs.sCustomers, mutable=True)\n",
        "mPyAbs.pSupply = Param(mPyAbs.sPlants, mutable=True)\n",
        "mPyAbs.pUnitTransportCost = Param(mPyAbs.sPlants, mPyAbs.sCustomers, mutable=True)"
      ],
      "execution_count": 0,
      "outputs": []
    },
    {
      "cell_type": "code",
      "metadata": {
        "id": "uYQcBanm_itb",
        "colab_type": "code",
        "colab": {}
      },
      "source": [
        "#Defining variables\n",
        "mPyAbs.vTransport = Var(mPyAbs.sPlants, mPyAbs.sCustomers, within=NonNegativeReals)\n",
        "mPyAbs.vTotalCost = Var(within=NonNegativeReals)"
      ],
      "execution_count": 0,
      "outputs": []
    },
    {
      "cell_type": "code",
      "metadata": {
        "id": "07vthNru_yum",
        "colab_type": "code",
        "colab": {}
      },
      "source": [
        "# Defining supply constraint rule\n",
        "def fcSupply (model, p):\n",
        "  return sum(model.vTransport[p,c] for c in model.sCustomers) <= \\\n",
        "    model.pSupply[p]"
      ],
      "execution_count": 0,
      "outputs": []
    },
    {
      "cell_type": "code",
      "metadata": {
        "id": "6P8Iok4tBNBq",
        "colab_type": "code",
        "colab": {}
      },
      "source": [
        "# Defining demand constraint rule\n",
        "def fcDemand (model, c):\n",
        "  return sum(model.vTransport[p,c] for p in model.sPlants) >= \\\n",
        "    model.pDemand[c]"
      ],
      "execution_count": 0,
      "outputs": []
    },
    {
      "cell_type": "code",
      "metadata": {
        "id": "iR4F5ZCVBhUM",
        "colab_type": "code",
        "colab": {}
      },
      "source": [
        "# Defining total cost rule\n",
        "def fvTotalCost (model):\n",
        "  return model.vTotalCost == sum (model.vTransport[p,c]*model.pUnitTransportCost[p,c]\n",
        "                                  for p in model.sPlants\n",
        "                                  for c in model.sCustomers)"
      ],
      "execution_count": 0,
      "outputs": []
    },
    {
      "cell_type": "code",
      "metadata": {
        "id": "V_fWr8r-DLu1",
        "colab_type": "code",
        "colab": {}
      },
      "source": [
        "# Defining objective function rule\n",
        "def obj_expression(model):\n",
        "  return model.vTotalCost"
      ],
      "execution_count": 0,
      "outputs": []
    },
    {
      "cell_type": "code",
      "metadata": {
        "id": "tjEMgvYMB_oE",
        "colab_type": "code",
        "colab": {}
      },
      "source": [
        "# Activating constraints\n",
        "mPyAbs.cSupply = Constraint(mPyAbs.sPlants, rule=fcSupply)\n",
        "mPyAbs.cDemand = Constraint(mPyAbs.sCustomers, rule=fcDemand)\n",
        "mPyAbs.cTotalCost = Constraint(rule=fvTotalCost)"
      ],
      "execution_count": 0,
      "outputs": []
    },
    {
      "cell_type": "code",
      "metadata": {
        "id": "xxgkXA_2C42c",
        "colab_type": "code",
        "colab": {}
      },
      "source": [
        "# Setting the objective\n",
        "mPyAbs.fObj = Objective(rule=obj_expression)"
      ],
      "execution_count": 0,
      "outputs": []
    },
    {
      "cell_type": "code",
      "metadata": {
        "id": "T34gnyDmDz6-",
        "colab_type": "code",
        "colab": {}
      },
      "source": [
        "# Preparing model input data\n",
        "input_data = {None:{\n",
        "    'sPlants': {None: Plantas},\n",
        "    'sCustomers': {None:Clientes},\n",
        "    'pSupply': Oferta,            \n",
        "    'pDemand': Demanda,   \n",
        "    'pUnitTransportCost': CosteUnitario,\n",
        "}}"
      ],
      "execution_count": 0,
      "outputs": []
    },
    {
      "cell_type": "code",
      "metadata": {
        "id": "v6PzDvv9DnSj",
        "colab_type": "code",
        "colab": {}
      },
      "source": [
        "# Creating model instance\n",
        "instance = mPyAbs.create_instance(input_data)"
      ],
      "execution_count": 0,
      "outputs": []
    },
    {
      "cell_type": "code",
      "metadata": {
        "id": "j2_JF20GFeES",
        "colab_type": "code",
        "colab": {
          "base_uri": "https://localhost:8080/",
          "height": 219
        },
        "outputId": "3b928689-ed81-4fc1-ae8a-75f8473e85c3"
      },
      "source": [
        "opt = SolverFactory('cbc')\n",
        "results = opt.solve(instance)"
      ],
      "execution_count": 74,
      "outputs": [
        {
          "output_type": "stream",
          "text": [
            "40094.0\n",
            "Transport %r from %s to %s 6.0 1 1\n",
            "Transport %r from %s to %s 0.0 1 1\n",
            "Transport %r from %s to %s 0.0 1 1\n",
            "Transport %r from %s to %s 12.0 1 1\n",
            "Transport %r from %s to %s 28.0 1 1\n",
            "Transport %r from %s to %s 25.0 1 1\n",
            "Transport %r from %s to %s 16.0 1 1\n",
            "Transport %r from %s to %s 22.0 1 1\n",
            "Transport %r from %s to %s 0.0 1 1\n",
            "Transport %r from %s to %s 0.0 1 1\n"
          ],
          "name": "stdout"
        }
      ]
    },
    {
      "cell_type": "code",
      "metadata": {
        "id": "Y28pz6bdGmw8",
        "colab_type": "code",
        "colab": {
          "base_uri": "https://localhost:8080/",
          "height": 219
        },
        "outputId": "c06f1a2b-54af-4e51-cac1-e20773ccc907"
      },
      "source": [
        "print(\"Total cost: \" + str(instance.vTotalCost.value))\n",
        "for (p, c) in [i for i in instance.vTransport.keys()]:\n",
        "  print(\"Transport \" + str(instance.vTransport[p,c].value) + \" from \" + p + \" to \" + c)"
      ],
      "execution_count": 80,
      "outputs": [
        {
          "output_type": "stream",
          "text": [
            "Total cost: 40094.0\n",
            "Transport 6.0 from Caceres to Madrid\n",
            "Transport 0.0 from Caceres to Tarragona\n",
            "Transport 0.0 from Caceres to Santander\n",
            "Transport 12.0 from Caceres to Albacete\n",
            "Transport 28.0 from Caceres to Sevilla\n",
            "Transport 25.0 from Zamora to Madrid\n",
            "Transport 16.0 from Zamora to Tarragona\n",
            "Transport 22.0 from Zamora to Santander\n",
            "Transport 0.0 from Zamora to Albacete\n",
            "Transport 0.0 from Zamora to Sevilla\n"
          ],
          "name": "stdout"
        }
      ]
    }
  ]
}